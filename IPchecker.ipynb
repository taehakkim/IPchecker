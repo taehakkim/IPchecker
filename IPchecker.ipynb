{
 "cells": [
  {
   "cell_type": "code",
   "execution_count": 2,
   "id": "0e17e77e-27d0-4041-8f46-d24ad44a3bc5",
   "metadata": {},
   "outputs": [
    {
     "name": "stdout",
     "output_type": "stream",
     "text": [
      "IP address of ns1.shopify.com is 23.227.38.33\n",
      "IP address of ns2.shopify.com is 23.227.38.33\n",
      "IP address of ns-cloud-a1.googledomains.com is 216.239.32.106\n",
      "IP address of ns1.bluehost.com is 162.159.24.80\n"
     ]
    }
   ],
   "source": [
    "import socket\n",
    "\n",
    "nameserver1 = 'ns1.shopify.com'\n",
    "nameserver2 = 'ns2.shopify.com'\n",
    "nameserver3 = 'ns-cloud-a1.googledomains.com'\n",
    "nameserver4 = 'ns1.bluehost.com'\n",
    "ip_address1 = socket.gethostbyname(nameserver1)\n",
    "ip_address2 = socket.gethostbyname(nameserver2)\n",
    "ip_address3 = socket.gethostbyname(nameserver3)\n",
    "ip_address4 = socket.gethostbyname(nameserver4)\n",
    "print(f\"IP address of {nameserver1} is {ip_address1}\")\n",
    "print(f\"IP address of {nameserver2} is {ip_address2}\")\n",
    "print(f\"IP address of {nameserver3} is {ip_address3}\")\n",
    "print(f\"IP address of {nameserver4} is {ip_address4}\")"
   ]
  }
 ],
 "metadata": {
  "kernelspec": {
   "display_name": "Python 3 (ipykernel)",
   "language": "python",
   "name": "python3"
  },
  "language_info": {
   "codemirror_mode": {
    "name": "ipython",
    "version": 3
   },
   "file_extension": ".py",
   "mimetype": "text/x-python",
   "name": "python",
   "nbconvert_exporter": "python",
   "pygments_lexer": "ipython3",
   "version": "3.12.8"
  }
 },
 "nbformat": 4,
 "nbformat_minor": 5
}
